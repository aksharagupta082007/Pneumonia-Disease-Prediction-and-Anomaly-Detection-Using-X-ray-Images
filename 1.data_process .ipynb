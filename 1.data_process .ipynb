{
  "nbformat": 4,
  "nbformat_minor": 0,
  "metadata": {
    "colab": {
      "provenance": [],
      "gpuType": "T4"
    },
    "kernelspec": {
      "name": "python3",
      "display_name": "Python 3"
    },
    "language_info": {
      "name": "python"
    },
    "accelerator": "GPU"
  },
  "cells": [
    {
      "cell_type": "code",
      "execution_count": null,
      "metadata": {
        "id": "s_CPx61xfnjD"
      },
      "outputs": [],
      "source": [
        "# --- STEP 1: Install Dependencies ---\n",
        "!pip install opencv-python\n",
        "!pip install timm\n",
        "\n",
        "import torch\n",
        "import torch.nn as nn\n",
        "from torch.utils.data import Dataset, DataLoader\n",
        "from torchvision import models, transforms\n",
        "import timm\n",
        "import numpy as np\n",
        "import cv2\n",
        "import os\n",
        "from PIL import Image\n",
        "from sklearn.model_selection import train_test_split\n",
        "from google.colab import files\n"
      ]
    },
    {
      "cell_type": "code",
      "source": [
        "# --- STEP 2: Upload kaggle.json and Download Dataset ---\n",
        "files.upload()\n",
        "!mkdir -p ~/.kaggle\n",
        "!cp kaggle.json ~/.kaggle/\n",
        "!chmod 600 ~/.kaggle/kaggle.json\n",
        "!kaggle datasets download -d paultimothymooney/chest-xray-pneumonia\n",
        "!unzip chest-xray-pneumonia.zip\n"
      ],
      "metadata": {
        "id": "_18C-5gFgU-Z"
      },
      "execution_count": null,
      "outputs": []
    },
    {
      "cell_type": "code",
      "source": [
        "\n",
        "# --- STEP 3: CLAHE Preprocessing with Augmentation ---\n",
        "def preprocess_with_clahe(img_path):\n",
        "    gray = cv2.imread(img_path, cv2.IMREAD_GRAYSCALE)\n",
        "    clahe = cv2.createCLAHE(clipLimit=2.0, tileGridSize=(8, 8))\n",
        "    clahe_img = clahe.apply(gray)\n",
        "    rgb_img = cv2.cvtColor(clahe_img, cv2.COLOR_GRAY2RGB)\n",
        "    pil_img = Image.fromarray(rgb_img)\n",
        "\n",
        "    transform_pipeline = transforms.Compose([\n",
        "        transforms.RandomResizedCrop(224, scale=(0.9, 1.0)),\n",
        "        transforms.RandomAffine(degrees=5, translate=(0.05, 0.05)),\n",
        "        transforms.RandomHorizontalFlip(),\n",
        "        transforms.RandomRotation(5),\n",
        "        transforms.ColorJitter(brightness=0.05, contrast=0.05),\n",
        "        transforms.ToTensor(),\n",
        "        transforms.Normalize(mean=[0.485, 0.456, 0.406],\n",
        "                             std=[0.229, 0.224, 0.225])\n",
        "    ])\n",
        "\n",
        "    return transform_pipeline(pil_img)\n"
      ],
      "metadata": {
        "id": "bULmyzxMhsKR"
      },
      "execution_count": null,
      "outputs": []
    },
    {
      "cell_type": "code",
      "source": [
        "# --- STEP 4: Dataset Class ---\n",
        "class XrayDataset(Dataset):\n",
        "    def __init__(self, image_paths, labels, transform_fn):\n",
        "        self.image_paths = image_paths\n",
        "        self.labels = labels\n",
        "        self.transform_fn = transform_fn\n",
        "\n",
        "    def __len__(self):\n",
        "        return len(self.image_paths)\n",
        "\n",
        "    def __getitem__(self, idx):\n",
        "        img_path = self.image_paths[idx]\n",
        "        img_tensor = self.transform_fn(img_path)\n",
        "        label = self.labels[idx]\n",
        "        return img_tensor, torch.tensor(label)"
      ],
      "metadata": {
        "id": "25zjCoBkhz4E"
      },
      "execution_count": null,
      "outputs": []
    },
    {
      "cell_type": "code",
      "source": [
        "# --- STEP 5: Load Data ---\n",
        "train_dir = '/content/chest_xray/train'\n",
        "all_images = []\n",
        "all_labels = []\n",
        "\n",
        "for label, class_name in enumerate(['NORMAL', 'PNEUMONIA']):\n",
        "    class_dir = os.path.join(train_dir, class_name)\n",
        "    for file in os.listdir(class_dir):\n",
        "        if file.endswith('.jpeg'):\n",
        "            all_images.append(os.path.join(class_dir, file))\n",
        "            all_labels.append(label)\n",
        "\n",
        "train_imgs, val_imgs, train_lbls, val_lbls = train_test_split(\n",
        "    all_images, all_labels, test_size=0.2, stratify=all_labels, random_state=42\n",
        ")\n",
        "\n",
        "train_dataset = XrayDataset(train_imgs, train_lbls, preprocess_with_clahe)\n",
        "val_dataset = XrayDataset(val_imgs, val_lbls, preprocess_with_clahe)\n",
        "train_loader = DataLoader(train_dataset, batch_size=8, shuffle=True)\n",
        "val_loader = DataLoader(val_dataset, batch_size=8, shuffle=False)"
      ],
      "metadata": {
        "id": "wVGS7k7rh42Q"
      },
      "execution_count": null,
      "outputs": []
    }
  ]
}
