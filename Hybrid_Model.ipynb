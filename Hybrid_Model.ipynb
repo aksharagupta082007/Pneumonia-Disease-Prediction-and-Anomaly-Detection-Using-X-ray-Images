{
  "nbformat": 4,
  "nbformat_minor": 0,
  "metadata": {
    "colab": {
      "provenance": []
    },
    "kernelspec": {
      "name": "python3",
      "display_name": "Python 3"
    },
    "language_info": {
      "name": "python"
    }
  },
  "cells": [
    {
      "cell_type": "code",
      "execution_count": null,
      "metadata": {
        "id": "dXJgYCVnjnYW"
      },
      "outputs": [],
      "source": [
        "# --- STEP 6: Hybrid CNN + ViT Model ---\n",
        "class HybridCNNViT(nn.Module):\n",
        "    def __init__(self):\n",
        "        super(HybridCNNViT, self).__init__()\n",
        "        self.cnn = models.densenet121(weights=models.DenseNet121_Weights.DEFAULT).features\n",
        "        self.vit = timm.create_model('vit_base_patch16_224', pretrained=True)\n",
        "        self.vit.head = nn.Identity()  # remove classification head\n",
        "\n",
        "        self.classifier = nn.Sequential(\n",
        "            nn.Linear(1024 + 768, 512),\n",
        "            nn.ReLU(),\n",
        "            nn.Dropout(0.3),\n",
        "            nn.Linear(512, 2)\n",
        "        )\n",
        "\n",
        "    def forward(self, x):\n",
        "        cnn_feat = self.cnn(x)\n",
        "        cnn_feat = nn.AdaptiveAvgPool2d((1, 1))(cnn_feat)\n",
        "        cnn_feat = cnn_feat.view(cnn_feat.size(0), -1)\n",
        "\n",
        "        vit_feat = self.vit(x)\n",
        "\n",
        "        combined = torch.cat((cnn_feat, vit_feat), dim=1)\n",
        "        out = self.classifier(combined)\n",
        "        return out"
      ]
    }
  ]
}