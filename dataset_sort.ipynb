{
  "nbformat": 4,
  "nbformat_minor": 0,
  "metadata": {
    "colab": {
      "provenance": [],
      "gpuType": "T4",
      "include_colab_link": true
    },
    "kernelspec": {
      "name": "python3",
      "display_name": "Python 3"
    },
    "language_info": {
      "name": "python"
    },
    "accelerator": "GPU"
  },
  "cells": [
    {
      "cell_type": "markdown",
      "metadata": {
        "id": "view-in-github",
        "colab_type": "text"
      },
      "source": [
        "<a href=\"https://colab.research.google.com/github/aksharagupta082007/Pneumonia-Disease-Prediction-and-Anomaly-Detection-Using-X-ray-Images/blob/main/dataset_sort.ipynb\" target=\"_parent\"><img src=\"https://colab.research.google.com/assets/colab-badge.svg\" alt=\"Open In Colab\"/></a>"
      ]
    },
    {
      "cell_type": "code",
      "execution_count": null,
      "metadata": {
        "colab": {
          "base_uri": "https://localhost:8080/"
        },
        "id": "8pclItlo57qa",
        "outputId": "992b6708-1448-4955-b817-acd93ed8797d"
      },
      "outputs": [
        {
          "output_type": "stream",
          "name": "stdout",
          "text": [
            "Mounted at /content/drive\n"
          ]
        }
      ],
      "source": [
        "from google.colab import drive\n",
        "drive.mount('/content/drive')\n"
      ]
    },
    {
      "cell_type": "code",
      "source": [
        "zip_paths = [\n",
        "   '/content/drive/MyDrive/content/new/Copy of chest_xray-20250726T110654Z-1-001.zip',\n",
        "'/content/drive/MyDrive/content/archive (4).zip',\n",
        "'/content/drive/MyDrive/content/archive (2).zip'\n",
        "]\n",
        "\n",
        "extract_dir = \"/content/original_data\"\n",
        "\n",
        "import zipfile, os\n",
        "\n",
        "for zip_path in zip_paths:\n",
        "    fname = os.path.basename(zip_path)\n",
        "    if os.path.exists(zip_path):\n",
        "        try:\n",
        "            with zipfile.ZipFile(zip_path, 'r') as zip_ref:\n",
        "                zip_ref.extractall(extract_dir)\n",
        "            print(f\"✅ Extracted {fname}\")\n",
        "        except zipfile.BadZipFile:\n",
        "            print(f\"❌ Error: {fname} is a bad zip file.\")\n",
        "        except Exception as e:\n",
        "            print(f\"❌ Error extracting {fname}: {e}\")\n",
        "    else:\n",
        "        print(f\"⚠️ Warning: {fname} not found at {zip_path}\")\n"
      ],
      "metadata": {
        "colab": {
          "base_uri": "https://localhost:8080/"
        },
        "id": "1E1ZvUN4623A",
        "outputId": "6af3e6e5-abe7-4d20-a3d8-857d63cd9ff5"
      },
      "execution_count": null,
      "outputs": [
        {
          "output_type": "stream",
          "name": "stdout",
          "text": [
            "✅ Extracted Copy of chest_xray-20250726T110654Z-1-001.zip\n",
            "✅ Extracted archive (4).zip\n",
            "✅ Extracted archive (2).zip\n"
          ]
        }
      ]
    },
    {
      "cell_type": "code",
      "source": [
        "!find /content/drive/MyDrive -name \"*.zip\"\n"
      ],
      "metadata": {
        "colab": {
          "base_uri": "https://localhost:8080/"
        },
        "id": "HpfBvlh78Qk2",
        "outputId": "52c0266e-5fdd-4993-cff1-64e484e449e8"
      },
      "execution_count": null,
      "outputs": [
        {
          "output_type": "stream",
          "name": "stdout",
          "text": [
            "/content/drive/MyDrive/Copy of Copy of chest_xray-20250726T110654Z-1-001.zip\n",
            "/content/drive/MyDrive/content/new/Copy of chest_xray-20250726T110654Z-1-001.zip\n",
            "/content/drive/MyDrive/content/archive (4).zip\n",
            "/content/drive/MyDrive/content/archive (2).zip\n"
          ]
        }
      ]
    },
    {
      "cell_type": "code",
      "source": [
        "import os\n",
        "\n",
        "# List of extracted dataset directories\n",
        "dataset_dirs = [\n",
        "    \"/content/drive/MyDrive/content/new/Copy of chest_xray-20250726T110654Z-1-001\",\n",
        "    \"/content/drive/MyDrive/content/archive (4)\",\n",
        "    \"/content/drive/MyDrive/content/archive (2)\"\n",
        "]\n",
        "\n",
        "# Helper function to count images\n",
        "def count_images(folder):\n",
        "    if not os.path.exists(folder):\n",
        "        return 0\n",
        "    return len([\n",
        "        f for f in os.listdir(folder)\n",
        "        if f.lower().endswith(('.png', '.jpg', '.jpeg'))\n",
        "    ])\n",
        "\n",
        "# Scan each dataset folder\n",
        "for dataset_path in dataset_dirs:\n",
        "    folder_name = os.path.basename(dataset_path)\n",
        "    print(f\"\\n📦 Dataset: {folder_name}\")\n",
        "\n",
        "    for split in ['train', 'val', 'test']:\n",
        "        split_path = os.path.join(dataset_path, split)\n",
        "        if not os.path.exists(split_path):\n",
        "            continue\n",
        "\n",
        "        print(f\"  📁 {split}/\")\n",
        "        for class_name in ['pneumonia', 'normal', 'covid']:\n",
        "            class_path = os.path.join(split_path, class_name)\n",
        "            if os.path.exists(class_path):\n",
        "                count = count_images(class_path)\n",
        "                print(f\"    🔹 {class_name}: {count} images\")\n"
      ],
      "metadata": {
        "colab": {
          "base_uri": "https://localhost:8080/"
        },
        "id": "lvTDcqiJ-bBb",
        "outputId": "6b5dc601-9518-457f-a8d8-da1d1ced15f5"
      },
      "execution_count": null,
      "outputs": [
        {
          "output_type": "stream",
          "name": "stdout",
          "text": [
            "\n",
            "📦 Dataset: Copy of chest_xray-20250726T110654Z-1-001\n",
            "\n",
            "📦 Dataset: archive (4)\n",
            "\n",
            "📦 Dataset: archive (2)\n"
          ]
        }
      ]
    },
    {
      "cell_type": "code",
      "source": [
        "import zipfile\n",
        "import os\n",
        "\n",
        "# List of zip file paths on your Drive\n",
        "zip_paths = [\n",
        "    \"/content/drive/MyDrive/Copy of Copy of chest_xray-20250726T110654Z-1-001.zip\",\n",
        "    \"/content/drive/MyDrive/content/archive (4).zip\",\n",
        "    \"/content/drive/MyDrive/content/archive (2).zip\"\n",
        "]\n",
        "\n",
        "# Extraction destination\n",
        "extract_base_dir = \"/content/extracted_data\"\n",
        "os.makedirs(extract_base_dir, exist_ok=True)\n",
        "\n",
        "# Helper to count images\n",
        "def count_images(folder):\n",
        "    if not os.path.exists(folder):\n",
        "        return 0\n",
        "    return len([\n",
        "        f for f in os.listdir(folder)\n",
        "        if f.lower().endswith(('.png', '.jpg', '.jpeg'))\n",
        "    ])\n",
        "\n",
        "# Step 1: Extract each zip file\n",
        "for zip_path in zip_paths:\n",
        "    fname = os.path.basename(zip_path).replace(\".zip\", \"\")\n",
        "    extract_dir = os.path.join(extract_base_dir, fname)\n",
        "\n",
        "    if os.path.exists(zip_path):\n",
        "        try:\n",
        "            with zipfile.ZipFile(zip_path, 'r') as zip_ref:\n",
        "                zip_ref.extractall(extract_dir)\n",
        "            print(f\"\\n✅ Extracted: {fname}\")\n",
        "        except zipfile.BadZipFile:\n",
        "            print(f\"❌ Error: Bad zip file → {fname}\")\n",
        "        except Exception as e:\n",
        "            print(f\"❌ Error extracting {fname}: {e}\")\n",
        "    else:\n",
        "        print(f\"⚠️ File not found: {zip_path}\")\n",
        "        continue\n",
        "\n",
        "    # Step 2: Count images inside extracted folder\n",
        "    for split in ['train', 'val', 'test']:\n",
        "        split_path = os.path.join(extract_dir, split)\n",
        "        if not os.path.exists(split_path):\n",
        "            continue\n",
        "\n",
        "        print(f\"  📁 {split}/\")\n",
        "        for class_name in ['pneumonia', 'normal', 'covid']:\n",
        "            class_path = os.path.join(split_path, class_name)\n",
        "            if os.path.exists(class_path):\n",
        "                count = count_images(class_path)\n",
        "                print(f\"    🔹 {class_name}: {count} images\")\n"
      ],
      "metadata": {
        "colab": {
          "base_uri": "https://localhost:8080/"
        },
        "id": "W19zbZrT-1Gi",
        "outputId": "662eae5a-fd3d-4229-838e-1aaa874985aa"
      },
      "execution_count": null,
      "outputs": [
        {
          "output_type": "stream",
          "name": "stdout",
          "text": [
            "\n",
            "✅ Extracted: Copy of Copy of chest_xray-20250726T110654Z-1-001\n",
            "\n",
            "✅ Extracted: archive (4)\n",
            "  📁 train/\n",
            "  📁 val/\n",
            "  📁 test/\n",
            "\n",
            "✅ Extracted: archive (2)\n",
            "  📁 train/\n",
            "  📁 test/\n"
          ]
        }
      ]
    },
    {
      "cell_type": "code",
      "source": [
        "import os\n",
        "\n",
        "# Paths to your extracted folders\n",
        "dataset_dirs = {\n",
        "    \"Copy of Copy\": \"/content/drive/MyDrive/Copy of Copy of chest_xray-20250726T110654Z-1-001\",\n",
        "    \"Archive 4\": \"/content/drive/MyDrive/content/archive (4)\",\n",
        "    \"Archive 2\": \"/content/drive/MyDrive/content/archive (2)\"\n",
        "}\n",
        "\n",
        "# Function to count images in a folder\n",
        "def count_images(folder):\n",
        "    if not os.path.exists(folder):\n",
        "        return 0\n",
        "    return len([\n",
        "        f for f in os.listdir(folder)\n",
        "        if f.lower().endswith(('.png', '.jpg', '.jpeg'))\n",
        "    ])\n",
        "\n",
        "# Loop through each dataset\n",
        "for name, path in dataset_dirs.items():\n",
        "    print(f\"\\n📦 Dataset: {name}\")\n",
        "    for split in ['train', 'val', 'test']:\n",
        "        split_path = os.path.join(path, split)\n",
        "        if not os.path.exists(split_path):\n",
        "            continue\n",
        "        print(f\"  📁 {split}/\")\n",
        "\n",
        "        for class_name in ['pneumonia', 'normal', 'covid']:\n",
        "            class_path = os.path.join(split_path, class_name)\n",
        "            if os.path.exists(class_path):\n",
        "                count = count_images(class_path)\n",
        "                print(f\"    🔹 {class_name}: {count} images\")\n"
      ],
      "metadata": {
        "colab": {
          "base_uri": "https://localhost:8080/"
        },
        "id": "83rvEDq0_gqZ",
        "outputId": "5951ff49-5a3f-497f-d721-7ab0d8ebbc4a"
      },
      "execution_count": null,
      "outputs": [
        {
          "output_type": "stream",
          "name": "stdout",
          "text": [
            "\n",
            "📦 Dataset: Copy of Copy\n",
            "\n",
            "📦 Dataset: Archive 4\n",
            "\n",
            "📦 Dataset: Archive 2\n"
          ]
        }
      ]
    },
    {
      "cell_type": "code",
      "source": [
        "import os\n",
        "import shutil\n",
        "import random\n",
        "\n",
        "# ✅ Source directories (your extracted folders)\n",
        "source_dirs = [\n",
        "    \"/content/extracted_data/Copy of Copy of chest_xray-20250726T110654Z-1-001\",\n",
        "    \"/content/extracted_data/archive (4)\",\n",
        "    \"/content/extracted_data/archive (2)\"\n",
        "]\n",
        "\n",
        "# ✅ Target structure\n",
        "target_base = \"/content/drive/MyDrive/merged_chest_xray\"\n",
        "splits = {\n",
        "    \"train\": {\"pneumonia\": 5500, \"normal\": 5000},\n",
        "    \"val\": {\"pneumonia\": 550, \"normal\": 500},\n",
        "    \"test\": {\"pneumonia\": 600, \"normal\": 560},\n",
        "}\n",
        "\n",
        "# ✅ Step 1: Create target folders\n",
        "for split in splits:\n",
        "    for cls in splits[split]:\n",
        "        path = os.path.join(target_base, split, cls)\n",
        "        os.makedirs(path, exist_ok=True)\n",
        "\n",
        "# ✅ Step 2: Collect all images per class\n",
        "all_images = {\"pneumonia\": [], \"normal\": []}\n",
        "\n",
        "def collect_images(base_dir):\n",
        "    for split in ['train', 'val', 'test']:\n",
        "        split_path = os.path.join(base_dir, split)\n",
        "        if not os.path.exists(split_path):\n",
        "            continue\n",
        "\n",
        "        for class_dir in os.listdir(split_path):\n",
        "            class_lower = class_dir.lower()\n",
        "            if class_lower in all_images:\n",
        "                class_path = os.path.join(split_path, class_dir)\n",
        "                if os.path.isdir(class_path):\n",
        "                    for img in os.listdir(class_path):\n",
        "                        if img.lower().endswith(('.jpg', '.jpeg', '.png')):\n",
        "                            full_path = os.path.join(class_path, img)\n",
        "                            all_images[class_lower].append(full_path)\n",
        "\n",
        "# Run image collection\n",
        "for src in source_dirs:\n",
        "    collect_images(src)\n",
        "\n",
        "# ✅ Step 3: Shuffle\n",
        "for cls in all_images:\n",
        "    random.shuffle(all_images[cls])\n",
        "\n",
        "# ✅ Step 4: Copy required number of images\n",
        "copied = {\"pneumonia\": 0, \"normal\": 0}\n",
        "idx = {\"pneumonia\": 0, \"normal\": 0}\n",
        "\n",
        "for split in splits:\n",
        "    for cls in splits[split]:\n",
        "        count = splits[split][cls]\n",
        "        target_dir = os.path.join(target_base, split, cls)\n",
        "\n",
        "        for i in range(count):\n",
        "            try:\n",
        "                src_path = all_images[cls][idx[cls]]\n",
        "                filename = f\"{cls}_{idx[cls]}.jpg\"\n",
        "                dst_path = os.path.join(target_dir, filename)\n",
        "\n",
        "                shutil.copy2(src_path, dst_path)\n",
        "                idx[cls] += 1\n",
        "            except IndexError:\n",
        "                print(f\"❌ Not enough {cls} images to fulfill the request.\")\n",
        "                break\n",
        "\n",
        "print(\"\\n✅ Dataset merge complete.\")\n"
      ],
      "metadata": {
        "colab": {
          "base_uri": "https://localhost:8080/"
        },
        "id": "jdWgd6fVAg-U",
        "outputId": "73fb1c0b-0a14-48df-fbd9-9a9efb506679"
      },
      "execution_count": null,
      "outputs": [
        {
          "output_type": "stream",
          "name": "stdout",
          "text": [
            "❌ Not enough pneumonia images to fulfill the request.\n",
            "❌ Not enough normal images to fulfill the request.\n",
            "❌ Not enough pneumonia images to fulfill the request.\n",
            "❌ Not enough normal images to fulfill the request.\n",
            "❌ Not enough pneumonia images to fulfill the request.\n",
            "❌ Not enough normal images to fulfill the request.\n",
            "\n",
            "✅ Dataset merge complete.\n"
          ]
        }
      ]
    },
    {
      "cell_type": "code",
      "source": [
        "import os\n",
        "\n",
        "# ✅ Change this to your actual mounted Drive path\n",
        "base_dirs = [\n",
        "    \"/content/drive/MyDrive/Archive (2)\",\n",
        "    \"/content/drive/MyDrive/Archive (4)\",\n",
        "    \"/content/drive/MyDrive/Copy of copy of chest xray-20250726T110654Z-1-001\"\n",
        "]\n",
        "\n",
        "valid_classes = [\"PNEUMONIA\", \"NORMAL\"]\n",
        "folders_to_count = [\"train\", \"test\", \"val\", \"valid\", \"validation\"]\n",
        "\n",
        "def count_images(folder_path):\n",
        "    count = 0\n",
        "    for fname in os.listdir(folder_path):\n",
        "        if fname.lower().endswith(('.png', '.jpg', '.jpeg')):\n",
        "            count += 1\n",
        "    return count\n",
        "\n",
        "results = []\n",
        "\n",
        "for base in base_dirs:\n",
        "    for root, dirs, files in os.walk(base):\n",
        "        for subfolder in dirs:\n",
        "            if subfolder.upper() in valid_classes:\n",
        "                full_path = os.path.join(root, subfolder)\n",
        "                image_count = count_images(full_path)\n",
        "                results.append((full_path, subfolder.upper(), image_count))\n",
        "\n",
        "# ✅ Print results\n",
        "print(\"📊 Image Count Summary (Only PNEUMONIA and NORMAL folders):\\n\")\n",
        "for path, label, count in results:\n",
        "    print(f\"{label:<10} | {count:<5} images | Path: {path}\")\n"
      ],
      "metadata": {
        "colab": {
          "base_uri": "https://localhost:8080/"
        },
        "id": "8fdObvq4EtBP",
        "outputId": "73cbd578-53ee-4e6e-99f0-1831c44542b5"
      },
      "execution_count": null,
      "outputs": [
        {
          "output_type": "stream",
          "name": "stdout",
          "text": [
            "📊 Image Count Summary (Only PNEUMONIA and NORMAL folders):\n",
            "\n"
          ]
        }
      ]
    },
    {
      "cell_type": "code",
      "source": [
        "import os\n",
        "\n",
        "base_dirs = [\n",
        "    \"/content/drive/MyDrive/Archive (2)\",\n",
        "    \"/content/drive/MyDrive/Archive (4)\",\n",
        "    \"/content/drive/MyDrive/Copy of copy of chest xray-20250726T110654Z-1-001\"\n",
        "]\n",
        "\n",
        "print(\"🔍 Scanning all subfolders:\\n\")\n",
        "\n",
        "for base in base_dirs:\n",
        "    print(f\"📁 Base directory: {base}\")\n",
        "    for root, dirs, files in os.walk(base):\n",
        "        for subfolder in dirs:\n",
        "            print(\"  └──\", os.path.join(root, subfolder))\n"
      ],
      "metadata": {
        "colab": {
          "base_uri": "https://localhost:8080/"
        },
        "id": "B6UHUJ_5FKYS",
        "outputId": "2d037d0c-e7f8-4871-95a0-838bfbd5b38c"
      },
      "execution_count": null,
      "outputs": [
        {
          "output_type": "stream",
          "name": "stdout",
          "text": [
            "🔍 Scanning all subfolders:\n",
            "\n",
            "📁 Base directory: /content/drive/MyDrive/Archive (2)\n",
            "📁 Base directory: /content/drive/MyDrive/Archive (4)\n",
            "📁 Base directory: /content/drive/MyDrive/Copy of copy of chest xray-20250726T110654Z-1-001\n"
          ]
        }
      ]
    },
    {
      "cell_type": "code",
      "source": [
        "import zipfile\n",
        "\n",
        "# Replace with actual filenames shown in Drive\n",
        "zip_paths = [\n",
        "\n",
        "    \"/content/drive/MyDrive/archive (5).zip\"\n",
        "]\n",
        "\n",
        "for zpath in zip_paths:\n",
        "    if os.path.exists(zpath):\n",
        "        extract_to = zpath.replace(\".zip\", \"\")  # create folder with same name\n",
        "        print(f\"📦 Extracting {zpath} to {extract_to}\")\n",
        "        with zipfile.ZipFile(zpath, 'r') as zip_ref:\n",
        "            zip_ref.extractall(extract_to)\n",
        "    else:\n",
        "        print(f\"❌ Zip file not found: {zpath}\")\n"
      ],
      "metadata": {
        "colab": {
          "base_uri": "https://localhost:8080/"
        },
        "id": "H6r4WKrwGDH3",
        "outputId": "3572bddc-596b-4656-c767-8d9341d4816d"
      },
      "execution_count": null,
      "outputs": [
        {
          "output_type": "stream",
          "name": "stdout",
          "text": [
            "📦 Extracting /content/drive/MyDrive/archive (5).zip to /content/drive/MyDrive/archive (5)\n"
          ]
        }
      ]
    },
    {
      "cell_type": "code",
      "source": [
        "import os\n",
        "\n",
        "drive_path = \"/content/drive/MyDrive\"\n",
        "\n",
        "print(\"📁 Listing folders and zip files in your Drive:\\n\")\n",
        "\n",
        "for root, dirs, files in os.walk(drive_path):\n",
        "    for dir_name in dirs:\n",
        "        full_path = os.path.join(root, dir_name)\n",
        "        print(f\"📂 Folder: {full_path}\")\n",
        "\n",
        "    for file_name in files:\n",
        "        if file_name.lower().endswith(\".zip\"):\n",
        "            full_path = os.path.join(root, file_name)\n",
        "            print(f\"📦 Zip File: {full_path}\")\n"
      ],
      "metadata": {
        "colab": {
          "base_uri": "https://localhost:8080/",
          "height": 1000
        },
        "id": "LEAMzVxIGu0v",
        "outputId": "97d2fd9a-2307-48a4-9cf0-5ea87f2ee1f3"
      },
      "execution_count": null,
      "outputs": [
        {
          "output_type": "stream",
          "name": "stdout",
          "text": [
            "📁 Listing folders and zip files in your Drive:\n",
            "\n",
            "📂 Folder: /content/drive/MyDrive/Colab Notebooks\n",
            "📂 Folder: /content/drive/MyDrive/content\n",
            "📂 Folder: /content/drive/MyDrive/merged_chest_xray\n",
            "📂 Folder: /content/drive/MyDrive/archive (4)\n",
            "📂 Folder: /content/drive/MyDrive/archive (2)\n",
            "📂 Folder: /content/drive/MyDrive/Copy of Copy of chest_xray-20250726T110654Z-1-001\n",
            "📂 Folder: /content/drive/MyDrive/archive (5)\n",
            "📦 Zip File: /content/drive/MyDrive/Copy of Copy of chest_xray-20250726T110654Z-1-001.zip\n",
            "📦 Zip File: /content/drive/MyDrive/archive (4).zip\n",
            "📦 Zip File: /content/drive/MyDrive/archive (2).zip\n",
            "📦 Zip File: /content/drive/MyDrive/archive (5).zip\n",
            "📂 Folder: /content/drive/MyDrive/content/new\n",
            "📦 Zip File: /content/drive/MyDrive/content/new/Copy of chest_xray-20250726T110654Z-1-001.zip\n",
            "📂 Folder: /content/drive/MyDrive/merged_chest_xray/train\n",
            "📂 Folder: /content/drive/MyDrive/merged_chest_xray/val\n",
            "📂 Folder: /content/drive/MyDrive/merged_chest_xray/test\n",
            "📂 Folder: /content/drive/MyDrive/merged_chest_xray/train/pneumonia\n",
            "📂 Folder: /content/drive/MyDrive/merged_chest_xray/train/normal\n",
            "📂 Folder: /content/drive/MyDrive/merged_chest_xray/val/pneumonia\n",
            "📂 Folder: /content/drive/MyDrive/merged_chest_xray/val/normal\n",
            "📂 Folder: /content/drive/MyDrive/merged_chest_xray/test/pneumonia\n",
            "📂 Folder: /content/drive/MyDrive/merged_chest_xray/test/normal\n",
            "📂 Folder: /content/drive/MyDrive/archive (4)/test\n",
            "📂 Folder: /content/drive/MyDrive/archive (4)/train\n",
            "📂 Folder: /content/drive/MyDrive/archive (4)/val\n",
            "📂 Folder: /content/drive/MyDrive/archive (4)/test/COVID19\n",
            "📂 Folder: /content/drive/MyDrive/archive (4)/test/NORMAL\n",
            "📂 Folder: /content/drive/MyDrive/archive (4)/test/PNEUMONIA\n",
            "📂 Folder: /content/drive/MyDrive/archive (4)/test/TURBERCULOSIS\n",
            "📂 Folder: /content/drive/MyDrive/archive (4)/train/COVID19\n",
            "📂 Folder: /content/drive/MyDrive/archive (4)/train/NORMAL\n",
            "📂 Folder: /content/drive/MyDrive/archive (4)/train/PNEUMONIA\n",
            "📂 Folder: /content/drive/MyDrive/archive (4)/train/TURBERCULOSIS\n",
            "📂 Folder: /content/drive/MyDrive/archive (4)/val/COVID19\n",
            "📂 Folder: /content/drive/MyDrive/archive (4)/val/NORMAL\n",
            "📂 Folder: /content/drive/MyDrive/archive (4)/val/PNEUMONIA\n",
            "📂 Folder: /content/drive/MyDrive/archive (4)/val/TURBERCULOSIS\n",
            "📂 Folder: /content/drive/MyDrive/archive (2)/test\n",
            "📂 Folder: /content/drive/MyDrive/archive (2)/train\n",
            "📂 Folder: /content/drive/MyDrive/archive (2)/train/BACTERIAL\n",
            "📂 Folder: /content/drive/MyDrive/archive (2)/train/NORMAL\n",
            "📂 Folder: /content/drive/MyDrive/archive (2)/train/VIRAL\n",
            "📂 Folder: /content/drive/MyDrive/Copy of Copy of chest_xray-20250726T110654Z-1-001/chest_xray\n",
            "📂 Folder: /content/drive/MyDrive/Copy of Copy of chest_xray-20250726T110654Z-1-001/chest_xray/val\n",
            "📂 Folder: /content/drive/MyDrive/Copy of Copy of chest_xray-20250726T110654Z-1-001/chest_xray/train\n",
            "📂 Folder: /content/drive/MyDrive/Copy of Copy of chest_xray-20250726T110654Z-1-001/chest_xray/test\n",
            "📂 Folder: /content/drive/MyDrive/Copy of Copy of chest_xray-20250726T110654Z-1-001/chest_xray/val/PNEUMONIA\n",
            "📂 Folder: /content/drive/MyDrive/Copy of Copy of chest_xray-20250726T110654Z-1-001/chest_xray/val/NORMAL\n",
            "📂 Folder: /content/drive/MyDrive/Copy of Copy of chest_xray-20250726T110654Z-1-001/chest_xray/train/PNEUMONIA\n",
            "📂 Folder: /content/drive/MyDrive/Copy of Copy of chest_xray-20250726T110654Z-1-001/chest_xray/train/NORMAL\n",
            "📂 Folder: /content/drive/MyDrive/Copy of Copy of chest_xray-20250726T110654Z-1-001/chest_xray/test/NORMAL\n",
            "📂 Folder: /content/drive/MyDrive/Copy of Copy of chest_xray-20250726T110654Z-1-001/chest_xray/test/PNEUMONIA\n",
            "📂 Folder: /content/drive/MyDrive/archive (5)/chest_xray\n",
            "📂 Folder: /content/drive/MyDrive/archive (5)/chest_xray/test\n",
            "📂 Folder: /content/drive/MyDrive/archive (5)/chest_xray/train\n",
            "📂 Folder: /content/drive/MyDrive/archive (5)/chest_xray/test/NORMAL\n",
            "📂 Folder: /content/drive/MyDrive/archive (5)/chest_xray/test/PNEUMONIA\n",
            "📂 Folder: /content/drive/MyDrive/archive (5)/chest_xray/train/NORMAL\n",
            "📂 Folder: /content/drive/MyDrive/archive (5)/chest_xray/train/PNEUMONIA\n"
          ]
        },
        {
          "output_type": "error",
          "ename": "KeyboardInterrupt",
          "evalue": "",
          "traceback": [
            "\u001b[0;31m---------------------------------------------------------------------------\u001b[0m",
            "\u001b[0;31mKeyboardInterrupt\u001b[0m                         Traceback (most recent call last)",
            "\u001b[0;32m/tmp/ipython-input-3041292634.py\u001b[0m in \u001b[0;36m<cell line: 0>\u001b[0;34m()\u001b[0m\n\u001b[1;32m      5\u001b[0m \u001b[0mprint\u001b[0m\u001b[0;34m(\u001b[0m\u001b[0;34m\"📁 Listing folders and zip files in your Drive:\\n\"\u001b[0m\u001b[0;34m)\u001b[0m\u001b[0;34m\u001b[0m\u001b[0;34m\u001b[0m\u001b[0m\n\u001b[1;32m      6\u001b[0m \u001b[0;34m\u001b[0m\u001b[0m\n\u001b[0;32m----> 7\u001b[0;31m \u001b[0;32mfor\u001b[0m \u001b[0mroot\u001b[0m\u001b[0;34m,\u001b[0m \u001b[0mdirs\u001b[0m\u001b[0;34m,\u001b[0m \u001b[0mfiles\u001b[0m \u001b[0;32min\u001b[0m \u001b[0mos\u001b[0m\u001b[0;34m.\u001b[0m\u001b[0mwalk\u001b[0m\u001b[0;34m(\u001b[0m\u001b[0mdrive_path\u001b[0m\u001b[0;34m)\u001b[0m\u001b[0;34m:\u001b[0m\u001b[0;34m\u001b[0m\u001b[0;34m\u001b[0m\u001b[0m\n\u001b[0m\u001b[1;32m      8\u001b[0m     \u001b[0;32mfor\u001b[0m \u001b[0mdir_name\u001b[0m \u001b[0;32min\u001b[0m \u001b[0mdirs\u001b[0m\u001b[0;34m:\u001b[0m\u001b[0;34m\u001b[0m\u001b[0;34m\u001b[0m\u001b[0m\n\u001b[1;32m      9\u001b[0m         \u001b[0mfull_path\u001b[0m \u001b[0;34m=\u001b[0m \u001b[0mos\u001b[0m\u001b[0;34m.\u001b[0m\u001b[0mpath\u001b[0m\u001b[0;34m.\u001b[0m\u001b[0mjoin\u001b[0m\u001b[0;34m(\u001b[0m\u001b[0mroot\u001b[0m\u001b[0;34m,\u001b[0m \u001b[0mdir_name\u001b[0m\u001b[0;34m)\u001b[0m\u001b[0;34m\u001b[0m\u001b[0;34m\u001b[0m\u001b[0m\n",
            "\u001b[0;32m/usr/lib/python3.11/os.py\u001b[0m in \u001b[0;36m_walk\u001b[0;34m(top, topdown, onerror, followlinks)\u001b[0m\n",
            "\u001b[0;32m/usr/lib/python3.11/os.py\u001b[0m in \u001b[0;36m_walk\u001b[0;34m(top, topdown, onerror, followlinks)\u001b[0m\n",
            "\u001b[0;32m/usr/lib/python3.11/os.py\u001b[0m in \u001b[0;36m_walk\u001b[0;34m(top, topdown, onerror, followlinks)\u001b[0m\n",
            "\u001b[0;32m/usr/lib/python3.11/os.py\u001b[0m in \u001b[0;36m_walk\u001b[0;34m(top, topdown, onerror, followlinks)\u001b[0m\n",
            "\u001b[0;32m/usr/lib/python3.11/os.py\u001b[0m in \u001b[0;36m_walk\u001b[0;34m(top, topdown, onerror, followlinks)\u001b[0m\n",
            "\u001b[0;31mKeyboardInterrupt\u001b[0m: "
          ]
        }
      ]
    },
    {
      "cell_type": "code",
      "source": [
        "import os\n",
        "\n",
        "# ✅ Your dataset root folders\n",
        "base_dirs = [\n",
        "    \"/content/drive/MyDrive/archive (2)\",\n",
        "    \"/content/drive/MyDrive/archive (4)\",\n",
        "    \"/content/drive/MyDrive/Copy of Copy of chest_xray-20250726T110654Z-1-001/chest_xray\",\n",
        "    \"/content/drive/MyDrive/archive (5)\"\n",
        "]\n",
        "\n",
        "# ✅ Valid class names\n",
        "valid_classes = [\"PNEUMONIA\", \"NORMAL\"]\n",
        "\n",
        "# ✅ Image file extensions\n",
        "image_exts = ('.jpg', '.jpeg', '.png')\n",
        "\n",
        "# ✅ Function to count images in a folder\n",
        "def count_images(folder_path):\n",
        "    return sum(1 for f in os.listdir(folder_path) if f.lower().endswith(image_exts))\n",
        "\n",
        "# ✅ Scan all subfolders\n",
        "results = []\n",
        "\n",
        "for base in base_dirs:\n",
        "    for root, dirs, files in os.walk(base):\n",
        "        for d in dirs:\n",
        "            if d.upper() in valid_classes:\n",
        "                full_path = os.path.join(root, d)\n",
        "                count = count_images(full_path)\n",
        "                results.append((full_path, d.upper(), count))\n",
        "\n",
        "# ✅ Print summary\n",
        "print(\"📊 Image Count Summary (Only PNEUMONIA and NORMAL folders):\\n\")\n",
        "for path, label, count in results:\n",
        "    print(f\"{label:<10} | {count:<5} images | 📁 {path}\")\n"
      ],
      "metadata": {
        "colab": {
          "base_uri": "https://localhost:8080/"
        },
        "id": "o89fqYGVKN1Z",
        "outputId": "475e2554-df6d-47b5-815d-5301db7fdffa"
      },
      "execution_count": null,
      "outputs": [
        {
          "output_type": "stream",
          "name": "stdout",
          "text": [
            "📊 Image Count Summary (Only PNEUMONIA and NORMAL folders):\n",
            "\n",
            "NORMAL     | 1341  images | 📁 /content/drive/MyDrive/archive (2)/train/NORMAL\n",
            "NORMAL     | 234   images | 📁 /content/drive/MyDrive/archive (4)/test/NORMAL\n",
            "PNEUMONIA  | 390   images | 📁 /content/drive/MyDrive/archive (4)/test/PNEUMONIA\n",
            "NORMAL     | 1341  images | 📁 /content/drive/MyDrive/archive (4)/train/NORMAL\n",
            "PNEUMONIA  | 3875  images | 📁 /content/drive/MyDrive/archive (4)/train/PNEUMONIA\n",
            "NORMAL     | 8     images | 📁 /content/drive/MyDrive/archive (4)/val/NORMAL\n",
            "PNEUMONIA  | 8     images | 📁 /content/drive/MyDrive/archive (4)/val/PNEUMONIA\n",
            "PNEUMONIA  | 8     images | 📁 /content/drive/MyDrive/Copy of Copy of chest_xray-20250726T110654Z-1-001/chest_xray/val/PNEUMONIA\n",
            "NORMAL     | 8     images | 📁 /content/drive/MyDrive/Copy of Copy of chest_xray-20250726T110654Z-1-001/chest_xray/val/NORMAL\n",
            "PNEUMONIA  | 3885  images | 📁 /content/drive/MyDrive/Copy of Copy of chest_xray-20250726T110654Z-1-001/chest_xray/train/PNEUMONIA\n",
            "NORMAL     | 1341  images | 📁 /content/drive/MyDrive/Copy of Copy of chest_xray-20250726T110654Z-1-001/chest_xray/train/NORMAL\n",
            "NORMAL     | 234   images | 📁 /content/drive/MyDrive/Copy of Copy of chest_xray-20250726T110654Z-1-001/chest_xray/test/NORMAL\n",
            "PNEUMONIA  | 390   images | 📁 /content/drive/MyDrive/Copy of Copy of chest_xray-20250726T110654Z-1-001/chest_xray/test/PNEUMONIA\n",
            "NORMAL     | 234   images | 📁 /content/drive/MyDrive/archive (5)/chest_xray/test/NORMAL\n",
            "PNEUMONIA  | 390   images | 📁 /content/drive/MyDrive/archive (5)/chest_xray/test/PNEUMONIA\n",
            "NORMAL     | 1341  images | 📁 /content/drive/MyDrive/archive (5)/chest_xray/train/NORMAL\n",
            "PNEUMONIA  | 3875  images | 📁 /content/drive/MyDrive/archive (5)/chest_xray/train/PNEUMONIA\n"
          ]
        }
      ]
    },
    {
      "cell_type": "code",
      "source": [
        "import os\n",
        "import shutil\n",
        "import random\n",
        "from pathlib import Path\n",
        "\n",
        "# ✅ Source directories where all x-ray folders are present\n",
        "source_dirs = [\n",
        "    \"/content/drive/MyDrive/archive (2)\",\n",
        "    \"/content/drive/MyDrive/archive (4)\",\n",
        "    \"/content/drive/MyDrive/archive (5)\",\n",
        "    \"/content/drive/MyDrive/Copy of Copy of chest_xray-20250726T110654Z-1-001/chest_xray\"\n",
        "]\n",
        "\n",
        "# ✅ Target distribution\n",
        "total_per_class = 5700\n",
        "split_ratio = {\"train\": 0.70, \"val\": 0.15, \"test\": 0.15}\n",
        "split_counts = {k: int(v * total_per_class) for k, v in split_ratio.items()}\n",
        "\n",
        "# ✅ Destination\n",
        "dest_root = \"/content/merged_data\"\n",
        "subsets = [\"train\", \"val\", \"test\"]\n",
        "classes = [\"NORMAL\", \"PNEUMONIA\"]\n",
        "\n",
        "# ✅ Create destination folders\n",
        "for subset in subsets:\n",
        "    for cls in classes:\n",
        "        path = os.path.join(dest_root, subset, cls)\n",
        "        shutil.rmtree(path, ignore_errors=True)\n",
        "        os.makedirs(path)\n",
        "\n",
        "# ✅ Collect all images\n",
        "all_images = {cls: [] for cls in classes}\n",
        "\n",
        "for src_dir in source_dirs:\n",
        "    for root, dirs, files in os.walk(src_dir):\n",
        "        for file in files:\n",
        "            if file.lower().endswith(('.jpg', '.jpeg', '.png')):\n",
        "                label = Path(root).name.upper()\n",
        "                if label in classes:\n",
        "                    all_images[label].append(os.path.join(root, file))\n",
        "\n",
        "# ✅ Shuffle and sample equal number\n",
        "for cls in classes:\n",
        "    random.shuffle(all_images[cls])\n",
        "    all_images[cls] = all_images[cls][:total_per_class]\n",
        "\n",
        "# ✅ Split and copy\n",
        "def copy_images(cls, subset, images):\n",
        "    dest_dir = os.path.join(dest_root, subset, cls)\n",
        "    for i, src in enumerate(images):\n",
        "        fname = f\"{cls.lower()}_{subset}_{i}.jpg\"\n",
        "        shutil.copy2(src, os.path.join(dest_dir, fname))\n",
        "\n",
        "for cls in classes:\n",
        "    start = 0\n",
        "    for subset in subsets:\n",
        "        end = start + split_counts[subset]\n",
        "        copy_images(cls, subset, all_images[cls][start:end])\n",
        "        start = end\n",
        "\n",
        "print(\"✅ Dataset split complete with 1:1 class balance and 70/15/15 ratio.\")\n"
      ],
      "metadata": {
        "colab": {
          "base_uri": "https://localhost:8080/",
          "height": 356
        },
        "id": "AQAq-nmXYaRF",
        "outputId": "2d25c708-ec13-49a8-801f-06c8d7858f39"
      },
      "execution_count": null,
      "outputs": [
        {
          "output_type": "error",
          "ename": "KeyboardInterrupt",
          "evalue": "",
          "traceback": [
            "\u001b[0;31m---------------------------------------------------------------------------\u001b[0m",
            "\u001b[0;31mKeyboardInterrupt\u001b[0m                         Traceback (most recent call last)",
            "\u001b[0;32m/tmp/ipython-input-3919536097.py\u001b[0m in \u001b[0;36m<cell line: 0>\u001b[0;34m()\u001b[0m\n\u001b[1;32m     56\u001b[0m     \u001b[0;32mfor\u001b[0m \u001b[0msubset\u001b[0m \u001b[0;32min\u001b[0m \u001b[0msubsets\u001b[0m\u001b[0;34m:\u001b[0m\u001b[0;34m\u001b[0m\u001b[0;34m\u001b[0m\u001b[0m\n\u001b[1;32m     57\u001b[0m         \u001b[0mend\u001b[0m \u001b[0;34m=\u001b[0m \u001b[0mstart\u001b[0m \u001b[0;34m+\u001b[0m \u001b[0msplit_counts\u001b[0m\u001b[0;34m[\u001b[0m\u001b[0msubset\u001b[0m\u001b[0;34m]\u001b[0m\u001b[0;34m\u001b[0m\u001b[0;34m\u001b[0m\u001b[0m\n\u001b[0;32m---> 58\u001b[0;31m         \u001b[0mcopy_images\u001b[0m\u001b[0;34m(\u001b[0m\u001b[0mcls\u001b[0m\u001b[0;34m,\u001b[0m \u001b[0msubset\u001b[0m\u001b[0;34m,\u001b[0m \u001b[0mall_images\u001b[0m\u001b[0;34m[\u001b[0m\u001b[0mcls\u001b[0m\u001b[0;34m]\u001b[0m\u001b[0;34m[\u001b[0m\u001b[0mstart\u001b[0m\u001b[0;34m:\u001b[0m\u001b[0mend\u001b[0m\u001b[0;34m]\u001b[0m\u001b[0;34m)\u001b[0m\u001b[0;34m\u001b[0m\u001b[0;34m\u001b[0m\u001b[0m\n\u001b[0m\u001b[1;32m     59\u001b[0m         \u001b[0mstart\u001b[0m \u001b[0;34m=\u001b[0m \u001b[0mend\u001b[0m\u001b[0;34m\u001b[0m\u001b[0;34m\u001b[0m\u001b[0m\n\u001b[1;32m     60\u001b[0m \u001b[0;34m\u001b[0m\u001b[0m\n",
            "\u001b[0;32m/tmp/ipython-input-3919536097.py\u001b[0m in \u001b[0;36mcopy_images\u001b[0;34m(cls, subset, images)\u001b[0m\n\u001b[1;32m     50\u001b[0m     \u001b[0;32mfor\u001b[0m \u001b[0mi\u001b[0m\u001b[0;34m,\u001b[0m \u001b[0msrc\u001b[0m \u001b[0;32min\u001b[0m \u001b[0menumerate\u001b[0m\u001b[0;34m(\u001b[0m\u001b[0mimages\u001b[0m\u001b[0;34m)\u001b[0m\u001b[0;34m:\u001b[0m\u001b[0;34m\u001b[0m\u001b[0;34m\u001b[0m\u001b[0m\n\u001b[1;32m     51\u001b[0m         \u001b[0mfname\u001b[0m \u001b[0;34m=\u001b[0m \u001b[0;34mf\"{cls.lower()}_{subset}_{i}.jpg\"\u001b[0m\u001b[0;34m\u001b[0m\u001b[0;34m\u001b[0m\u001b[0m\n\u001b[0;32m---> 52\u001b[0;31m         \u001b[0mshutil\u001b[0m\u001b[0;34m.\u001b[0m\u001b[0mcopy2\u001b[0m\u001b[0;34m(\u001b[0m\u001b[0msrc\u001b[0m\u001b[0;34m,\u001b[0m \u001b[0mos\u001b[0m\u001b[0;34m.\u001b[0m\u001b[0mpath\u001b[0m\u001b[0;34m.\u001b[0m\u001b[0mjoin\u001b[0m\u001b[0;34m(\u001b[0m\u001b[0mdest_dir\u001b[0m\u001b[0;34m,\u001b[0m \u001b[0mfname\u001b[0m\u001b[0;34m)\u001b[0m\u001b[0;34m)\u001b[0m\u001b[0;34m\u001b[0m\u001b[0;34m\u001b[0m\u001b[0m\n\u001b[0m\u001b[1;32m     53\u001b[0m \u001b[0;34m\u001b[0m\u001b[0m\n\u001b[1;32m     54\u001b[0m \u001b[0;32mfor\u001b[0m \u001b[0mcls\u001b[0m \u001b[0;32min\u001b[0m \u001b[0mclasses\u001b[0m\u001b[0;34m:\u001b[0m\u001b[0;34m\u001b[0m\u001b[0;34m\u001b[0m\u001b[0m\n",
            "\u001b[0;32m/usr/lib/python3.11/shutil.py\u001b[0m in \u001b[0;36mcopy2\u001b[0;34m(src, dst, follow_symlinks)\u001b[0m\n\u001b[1;32m    446\u001b[0m     \u001b[0;32mif\u001b[0m \u001b[0mos\u001b[0m\u001b[0;34m.\u001b[0m\u001b[0mpath\u001b[0m\u001b[0;34m.\u001b[0m\u001b[0misdir\u001b[0m\u001b[0;34m(\u001b[0m\u001b[0mdst\u001b[0m\u001b[0;34m)\u001b[0m\u001b[0;34m:\u001b[0m\u001b[0;34m\u001b[0m\u001b[0;34m\u001b[0m\u001b[0m\n\u001b[1;32m    447\u001b[0m         \u001b[0mdst\u001b[0m \u001b[0;34m=\u001b[0m \u001b[0mos\u001b[0m\u001b[0;34m.\u001b[0m\u001b[0mpath\u001b[0m\u001b[0;34m.\u001b[0m\u001b[0mjoin\u001b[0m\u001b[0;34m(\u001b[0m\u001b[0mdst\u001b[0m\u001b[0;34m,\u001b[0m \u001b[0mos\u001b[0m\u001b[0;34m.\u001b[0m\u001b[0mpath\u001b[0m\u001b[0;34m.\u001b[0m\u001b[0mbasename\u001b[0m\u001b[0;34m(\u001b[0m\u001b[0msrc\u001b[0m\u001b[0;34m)\u001b[0m\u001b[0;34m)\u001b[0m\u001b[0;34m\u001b[0m\u001b[0;34m\u001b[0m\u001b[0m\n\u001b[0;32m--> 448\u001b[0;31m     \u001b[0mcopyfile\u001b[0m\u001b[0;34m(\u001b[0m\u001b[0msrc\u001b[0m\u001b[0;34m,\u001b[0m \u001b[0mdst\u001b[0m\u001b[0;34m,\u001b[0m \u001b[0mfollow_symlinks\u001b[0m\u001b[0;34m=\u001b[0m\u001b[0mfollow_symlinks\u001b[0m\u001b[0;34m)\u001b[0m\u001b[0;34m\u001b[0m\u001b[0;34m\u001b[0m\u001b[0m\n\u001b[0m\u001b[1;32m    449\u001b[0m     \u001b[0mcopystat\u001b[0m\u001b[0;34m(\u001b[0m\u001b[0msrc\u001b[0m\u001b[0;34m,\u001b[0m \u001b[0mdst\u001b[0m\u001b[0;34m,\u001b[0m \u001b[0mfollow_symlinks\u001b[0m\u001b[0;34m=\u001b[0m\u001b[0mfollow_symlinks\u001b[0m\u001b[0;34m)\u001b[0m\u001b[0;34m\u001b[0m\u001b[0;34m\u001b[0m\u001b[0m\n\u001b[1;32m    450\u001b[0m     \u001b[0;32mreturn\u001b[0m \u001b[0mdst\u001b[0m\u001b[0;34m\u001b[0m\u001b[0;34m\u001b[0m\u001b[0m\n",
            "\u001b[0;32m/usr/lib/python3.11/shutil.py\u001b[0m in \u001b[0;36mcopyfile\u001b[0;34m(src, dst, follow_symlinks)\u001b[0m\n\u001b[1;32m    267\u001b[0m                     \u001b[0;32melif\u001b[0m \u001b[0m_USE_CP_SENDFILE\u001b[0m\u001b[0;34m:\u001b[0m\u001b[0;34m\u001b[0m\u001b[0;34m\u001b[0m\u001b[0m\n\u001b[1;32m    268\u001b[0m                         \u001b[0;32mtry\u001b[0m\u001b[0;34m:\u001b[0m\u001b[0;34m\u001b[0m\u001b[0;34m\u001b[0m\u001b[0m\n\u001b[0;32m--> 269\u001b[0;31m                             \u001b[0m_fastcopy_sendfile\u001b[0m\u001b[0;34m(\u001b[0m\u001b[0mfsrc\u001b[0m\u001b[0;34m,\u001b[0m \u001b[0mfdst\u001b[0m\u001b[0;34m)\u001b[0m\u001b[0;34m\u001b[0m\u001b[0;34m\u001b[0m\u001b[0m\n\u001b[0m\u001b[1;32m    270\u001b[0m                             \u001b[0;32mreturn\u001b[0m \u001b[0mdst\u001b[0m\u001b[0;34m\u001b[0m\u001b[0;34m\u001b[0m\u001b[0m\n\u001b[1;32m    271\u001b[0m                         \u001b[0;32mexcept\u001b[0m \u001b[0m_GiveupOnFastCopy\u001b[0m\u001b[0;34m:\u001b[0m\u001b[0;34m\u001b[0m\u001b[0;34m\u001b[0m\u001b[0m\n",
            "\u001b[0;32m/usr/lib/python3.11/shutil.py\u001b[0m in \u001b[0;36m_fastcopy_sendfile\u001b[0;34m(fsrc, fdst)\u001b[0m\n\u001b[1;32m    142\u001b[0m     \u001b[0;32mwhile\u001b[0m \u001b[0;32mTrue\u001b[0m\u001b[0;34m:\u001b[0m\u001b[0;34m\u001b[0m\u001b[0;34m\u001b[0m\u001b[0m\n\u001b[1;32m    143\u001b[0m         \u001b[0;32mtry\u001b[0m\u001b[0;34m:\u001b[0m\u001b[0;34m\u001b[0m\u001b[0;34m\u001b[0m\u001b[0m\n\u001b[0;32m--> 144\u001b[0;31m             \u001b[0msent\u001b[0m \u001b[0;34m=\u001b[0m \u001b[0mos\u001b[0m\u001b[0;34m.\u001b[0m\u001b[0msendfile\u001b[0m\u001b[0;34m(\u001b[0m\u001b[0moutfd\u001b[0m\u001b[0;34m,\u001b[0m \u001b[0minfd\u001b[0m\u001b[0;34m,\u001b[0m \u001b[0moffset\u001b[0m\u001b[0;34m,\u001b[0m \u001b[0mblocksize\u001b[0m\u001b[0;34m)\u001b[0m\u001b[0;34m\u001b[0m\u001b[0;34m\u001b[0m\u001b[0m\n\u001b[0m\u001b[1;32m    145\u001b[0m         \u001b[0;32mexcept\u001b[0m \u001b[0mOSError\u001b[0m \u001b[0;32mas\u001b[0m \u001b[0merr\u001b[0m\u001b[0;34m:\u001b[0m\u001b[0;34m\u001b[0m\u001b[0;34m\u001b[0m\u001b[0m\n\u001b[1;32m    146\u001b[0m             \u001b[0;31m# ...in oder to have a more informative exception.\u001b[0m\u001b[0;34m\u001b[0m\u001b[0;34m\u001b[0m\u001b[0m\n",
            "\u001b[0;31mKeyboardInterrupt\u001b[0m: "
          ]
        }
      ]
    },
    {
      "cell_type": "code",
      "source": [
        "import os\n",
        "\n",
        "for subset in ['train', 'val', 'test']:\n",
        "    for cls in ['PNEUMONIA', 'NORMAL']:\n",
        "        folder = f'/content/dataset/{subset}/{cls}'\n",
        "        if os.path.exists(folder):\n",
        "            count = len(os.listdir(folder))\n",
        "            print(f\"{subset}/{cls}: {count} files\")\n"
      ],
      "metadata": {
        "id": "4mAijIBuguQn"
      },
      "execution_count": null,
      "outputs": []
    },
    {
      "cell_type": "code",
      "source": [
        "import os\n",
        "\n",
        "for subset in ['train', 'val', 'test']:\n",
        "    for cls in ['PNEUMONIA', 'NORMAL']:\n",
        "        folder = f'/content/dataset/{subset}/{cls}'\n",
        "        if os.path.exists(folder):\n",
        "            count = len(os.listdir(folder))\n",
        "            print(f\"{subset}/{cls}: {count} files\")\n"
      ],
      "metadata": {
        "id": "WHKF17aqexpg"
      },
      "execution_count": null,
      "outputs": []
    },
    {
      "cell_type": "code",
      "source": [
        "import os\n",
        "import shutil\n",
        "import random\n",
        "from pathlib import Path\n",
        "from tqdm import tqdm  # progress bar\n",
        "\n",
        "# ✅ Source directories where all x-ray folders are present\n",
        "source_dirs = [\n",
        "    \"/content/drive/MyDrive/archive (2)\",\n",
        "    \"/content/drive/MyDrive/archive (4)\",\n",
        "    \"/content/drive/MyDrive/archive (5)\",\n",
        "    \"/content/drive/MyDrive/Copy of Copy of chest_xray-20250726T110654Z-1-001/chest_xray\"\n",
        "]\n",
        "\n",
        "# ✅ Target distribution\n",
        "total_per_class = 5700\n",
        "split_ratio = {\"train\": 0.70, \"val\": 0.15, \"test\": 0.15}\n",
        "split_counts = {k: int(v * total_per_class) for k, v in split_ratio.items()}\n",
        "\n",
        "# ✅ Destination\n",
        "dest_root = \"/content/merged_data\"\n",
        "subsets = [\"train\", \"val\", \"test\"]\n",
        "classes = [\"NORMAL\", \"PNEUMONIA\"]\n",
        "\n",
        "# ✅ Create destination folders\n",
        "for subset in subsets:\n",
        "    for cls in classes:\n",
        "        path = os.path.join(dest_root, subset, cls)\n",
        "        shutil.rmtree(path, ignore_errors=True)\n",
        "        os.makedirs(path)\n",
        "\n",
        "# ✅ Collect all images\n",
        "all_images = {cls: [] for cls in classes}\n",
        "\n",
        "for src_dir in source_dirs:\n",
        "    for root, dirs, files in os.walk(src_dir):\n",
        "        for file in files:\n",
        "            if file.lower().endswith(('.jpg', '.jpeg', '.png')):\n",
        "                label = Path(root).name.upper()\n",
        "                if label in classes:\n",
        "                    all_images[label].append(os.path.join(root, file))\n",
        "\n",
        "# ✅ Shuffle and sample equal number\n",
        "for cls in classes:\n",
        "    random.shuffle(all_images[cls])\n",
        "    all_images[cls] = all_images[cls][:total_per_class]\n",
        "\n",
        "# ✅ Split and copy with progress\n",
        "def copy_images(cls, subset, images):\n",
        "    dest_dir = os.path.join(dest_root, subset, cls)\n",
        "    print(f\"\\n🔁 Copying {cls} images to {subset} set...\")\n",
        "    for i, src in enumerate(tqdm(images, desc=f\"{cls} → {subset}\", unit=\"img\")):\n",
        "        fname = f\"{cls.lower()}_{subset}_{i}.jpg\"\n",
        "        shutil.copy2(src, os.path.join(dest_dir, fname))\n",
        "\n",
        "for cls in classes:\n",
        "    start = 0\n",
        "    for subset in subsets:\n",
        "        end = start + split_counts[subset]\n",
        "        copy_images(cls, subset, all_images[cls][start:end])\n",
        "        start = end\n",
        "\n",
        "print(\"\\n✅ Dataset split complete with 1:1 class balance and 70/15/15 ratio.\")\n"
      ],
      "metadata": {
        "colab": {
          "base_uri": "https://localhost:8080/"
        },
        "id": "iorzfdLGh2dx",
        "outputId": "32a2f59c-4879-4988-d18b-4ce0da51a467"
      },
      "execution_count": null,
      "outputs": [
        {
          "output_type": "stream",
          "name": "stdout",
          "text": [
            "\n",
            "🔁 Copying NORMAL images to train set...\n"
          ]
        },
        {
          "output_type": "stream",
          "name": "stderr",
          "text": [
            "NORMAL → train: 100%|██████████| 3989/3989 [13:58<00:00,  4.76img/s]\n"
          ]
        },
        {
          "output_type": "stream",
          "name": "stdout",
          "text": [
            "\n",
            "🔁 Copying NORMAL images to val set...\n"
          ]
        },
        {
          "output_type": "stream",
          "name": "stderr",
          "text": [
            "NORMAL → val: 100%|██████████| 855/855 [02:35<00:00,  5.49img/s]\n"
          ]
        },
        {
          "output_type": "stream",
          "name": "stdout",
          "text": [
            "\n",
            "🔁 Copying NORMAL images to test set...\n"
          ]
        },
        {
          "output_type": "stream",
          "name": "stderr",
          "text": [
            "NORMAL → test: 100%|██████████| 855/855 [02:33<00:00,  5.57img/s]\n"
          ]
        },
        {
          "output_type": "stream",
          "name": "stdout",
          "text": [
            "\n",
            "🔁 Copying PNEUMONIA images to train set...\n"
          ]
        },
        {
          "output_type": "stream",
          "name": "stderr",
          "text": [
            "PNEUMONIA → train: 100%|██████████| 3989/3989 [15:14<00:00,  4.36img/s]\n"
          ]
        },
        {
          "output_type": "stream",
          "name": "stdout",
          "text": [
            "\n",
            "🔁 Copying PNEUMONIA images to val set...\n"
          ]
        },
        {
          "output_type": "stream",
          "name": "stderr",
          "text": [
            "PNEUMONIA → val: 100%|██████████| 855/855 [03:04<00:00,  4.63img/s]\n"
          ]
        },
        {
          "output_type": "stream",
          "name": "stdout",
          "text": [
            "\n",
            "🔁 Copying PNEUMONIA images to test set...\n"
          ]
        },
        {
          "output_type": "stream",
          "name": "stderr",
          "text": [
            "PNEUMONIA → test: 100%|██████████| 855/855 [03:03<00:00,  4.66img/s]\n"
          ]
        },
        {
          "output_type": "stream",
          "name": "stdout",
          "text": [
            "\n",
            "✅ Dataset split complete with 1:1 class balance and 70/15/15 ratio.\n"
          ]
        }
      ]
    },
    {
      "cell_type": "code",
      "source": [
        "import os\n",
        "\n",
        "# Example: change these to match your actual folders\n",
        "sample_paths = [\n",
        "    \"/content/drive/MyDrive/archive (4)/train/NORMAL\",\n",
        "    \"/content/drive/MyDrive/archive (4)/train/PNEUMONIA\",\n",
        "    \"/content/drive/MyDrive/Copy of Copy of chest_xray-20250726T110654Z-1-001/chest_xray/train/NORMAL\",\n",
        "]\n",
        "\n",
        "for path in sample_paths:\n",
        "    try:\n",
        "        files = os.listdir(path)\n",
        "        print(f\"📁 {path} → {len(files)} files\")\n",
        "    except Exception as e:\n",
        "        print(f\"❌ Could not access {path}: {e}\")\n"
      ],
      "metadata": {
        "colab": {
          "base_uri": "https://localhost:8080/"
        },
        "id": "n6XoLDSEvFI4",
        "outputId": "68c64063-5dd1-4575-9e81-909863cf5106"
      },
      "execution_count": null,
      "outputs": [
        {
          "output_type": "stream",
          "name": "stdout",
          "text": [
            "❌ Could not access /content/drive/MyDrive/archive (4)/train/NORMAL: [Errno 2] No such file or directory: '/content/drive/MyDrive/archive (4)/train/NORMAL'\n",
            "❌ Could not access /content/drive/MyDrive/archive (4)/train/PNEUMONIA: [Errno 2] No such file or directory: '/content/drive/MyDrive/archive (4)/train/PNEUMONIA'\n",
            "❌ Could not access /content/drive/MyDrive/Copy of Copy of chest_xray-20250726T110654Z-1-001/chest_xray/train/NORMAL: [Errno 2] No such file or directory: '/content/drive/MyDrive/Copy of Copy of chest_xray-20250726T110654Z-1-001/chest_xray/train/NORMAL'\n"
          ]
        }
      ]
    },
    {
      "cell_type": "code",
      "source": [
        "# ✅ Define target path in Drive\n",
        "drive_target = \"/content/drive/MyDrive/Final_Chest_Xray_Dataset\"\n",
        "\n",
        "# ✅ Copy merged dataset to Drive\n",
        "shutil.copytree(\"/content/merged_data\", drive_target)\n",
        "\n",
        "print(\"✅ Dataset successfully saved to Google Drive at:\")\n",
        "print(drive_target)\n"
      ],
      "metadata": {
        "colab": {
          "base_uri": "https://localhost:8080/"
        },
        "id": "G9anDYda6abM",
        "outputId": "33865879-5c71-4f4f-9182-8538579f98e7"
      },
      "execution_count": null,
      "outputs": [
        {
          "output_type": "stream",
          "name": "stdout",
          "text": [
            "✅ Dataset successfully saved to Google Drive at:\n",
            "/content/drive/MyDrive/Final_Chest_Xray_Dataset\n"
          ]
        }
      ]
    },
    {
      "cell_type": "code",
      "source": [
        "import os\n",
        "\n",
        "for root, dirs, files in os.walk(\"/content/merged_data\"):\n",
        "    level = root.replace(\"/content/merged_data\", '').count(os.sep)\n",
        "    indent = '  ' * level\n",
        "    print(f\"{indent}📁 {os.path.basename(root)}/\")\n",
        "    for f in files[:3]:  # Show a few files\n",
        "        print(f\"{indent}  📄 {f}\")\n"
      ],
      "metadata": {
        "colab": {
          "base_uri": "https://localhost:8080/"
        },
        "id": "E_coT6TY75WU",
        "outputId": "e935ff23-cc5f-4001-ce44-4293f96242ff"
      },
      "execution_count": null,
      "outputs": [
        {
          "output_type": "stream",
          "name": "stdout",
          "text": [
            "📁 merged_data/\n",
            "  📁 test/\n",
            "    📁 PNEUMONIA/\n",
            "      📄 pneumonia_test_413.jpg\n",
            "      📄 pneumonia_test_501.jpg\n",
            "      📄 pneumonia_test_247.jpg\n",
            "    📁 NORMAL/\n",
            "      📄 normal_test_656.jpg\n",
            "      📄 normal_test_551.jpg\n",
            "      📄 normal_test_721.jpg\n",
            "  📁 train/\n",
            "    📁 PNEUMONIA/\n",
            "      📄 pneumonia_train_2903.jpg\n",
            "      📄 pneumonia_train_232.jpg\n",
            "      📄 pneumonia_train_2341.jpg\n",
            "    📁 NORMAL/\n",
            "      📄 normal_train_2614.jpg\n",
            "      📄 normal_train_832.jpg\n",
            "      📄 normal_train_2744.jpg\n",
            "  📁 val/\n",
            "    📁 PNEUMONIA/\n",
            "      📄 pneumonia_val_841.jpg\n",
            "      📄 pneumonia_val_264.jpg\n",
            "      📄 pneumonia_val_163.jpg\n",
            "    📁 NORMAL/\n",
            "      📄 normal_val_771.jpg\n",
            "      📄 normal_val_782.jpg\n",
            "      📄 normal_val_53.jpg\n"
          ]
        }
      ]
    },
    {
      "cell_type": "code",
      "source": [
        "import os\n",
        "import shutil\n",
        "from tqdm import tqdm\n",
        "\n",
        "# Source and destination\n",
        "src_val = \"/content/merged_data/val\"\n",
        "dst_val = \"/content/drive/MyDrive/Final_Chest_Xray_Dataset/val\"\n",
        "\n",
        "# Create destination directory if not exists\n",
        "os.makedirs(dst_val, exist_ok=True)\n",
        "\n",
        "# Loop through classes (PNEUMONIA and NORMAL)\n",
        "for class_name in os.listdir(src_val):\n",
        "    src_class_dir = os.path.join(src_val, class_name)\n",
        "    dst_class_dir = os.path.join(dst_val, class_name)\n",
        "    os.makedirs(dst_class_dir, exist_ok=True)\n",
        "\n",
        "    files = os.listdir(src_class_dir)\n",
        "    for file in tqdm(files, desc=f\"📂 Copying {class_name}\", unit=\"file\"):\n",
        "        shutil.copy2(os.path.join(src_class_dir, file), os.path.join(dst_class_dir, file))\n",
        "\n",
        "print(\"\\n✅ Validation set copied successfully to:\")\n",
        "print(dst_val)\n"
      ],
      "metadata": {
        "colab": {
          "base_uri": "https://localhost:8080/"
        },
        "id": "2KyhAztm9Abn",
        "outputId": "01eba02b-448c-43c7-ab9d-43d2e39e41d3"
      },
      "execution_count": null,
      "outputs": [
        {
          "output_type": "stream",
          "name": "stderr",
          "text": [
            "📂 Copying PNEUMONIA: 100%|██████████| 855/855 [00:11<00:00, 76.11file/s]\n",
            "📂 Copying NORMAL: 100%|██████████| 855/855 [00:12<00:00, 66.77file/s]"
          ]
        },
        {
          "output_type": "stream",
          "name": "stdout",
          "text": [
            "\n",
            "✅ Validation set copied successfully to:\n",
            "/content/drive/MyDrive/Final_Chest_Xray_Dataset/val\n"
          ]
        },
        {
          "output_type": "stream",
          "name": "stderr",
          "text": [
            "\n"
          ]
        }
      ]
    },
    {
      "cell_type": "code",
      "source": [
        "import os\n",
        "\n",
        "# ✅ Path to your final dataset in Drive\n",
        "root_dir = \"/content/drive/MyDrive/Final_Chest_Xray_Dataset\"\n",
        "\n",
        "# ✅ Valid image extensions\n",
        "valid_ext = ('.jpg', '.jpeg', '.png')\n",
        "\n",
        "print(f\"📁 Structure of: {root_dir}\\n\")\n",
        "\n",
        "# Walk through each directory and count images\n",
        "for root, dirs, files in os.walk(root_dir):\n",
        "    # Filter only image files\n",
        "    image_files = [f for f in files if f.lower().endswith(valid_ext)]\n",
        "\n",
        "    # Get relative path for better readability\n",
        "    rel_path = os.path.relpath(root, root_dir)\n",
        "    if rel_path == \".\":\n",
        "        rel_path = \".\"\n",
        "\n",
        "    # Print folder name and image count\n",
        "    print(f\"📂 {rel_path}/ — {len(image_files)} images\")\n"
      ],
      "metadata": {
        "colab": {
          "base_uri": "https://localhost:8080/"
        },
        "id": "l_-BtVkf97ta",
        "outputId": "30f9e949-ab9e-4f8e-f3a6-7785570baaf0"
      },
      "execution_count": null,
      "outputs": [
        {
          "output_type": "stream",
          "name": "stdout",
          "text": [
            "📁 Structure of: /content/drive/MyDrive/Final_Chest_Xray_Dataset\n",
            "\n",
            "📂 ./ — 0 images\n",
            "📂 test/ — 0 images\n",
            "📂 test/PNEUMONIA/ — 855 images\n",
            "📂 test/NORMAL/ — 855 images\n",
            "📂 train/ — 0 images\n",
            "📂 train/PNEUMONIA/ — 3989 images\n",
            "📂 train/NORMAL/ — 3989 images\n",
            "📂 val/ — 0 images\n",
            "📂 val/PNEUMONIA/ — 855 images\n",
            "📂 val/NORMAL/ — 855 images\n"
          ]
        }
      ]
    },
    {
      "cell_type": "code",
      "source": [
        "import shutil\n",
        "\n",
        "# ✅ Source: Folder to zip\n",
        "folder_to_zip = \"/content/drive/MyDrive/Final_Chest_Xray_Dataset\"\n",
        "\n",
        "# ✅ Destination zip file path\n",
        "zip_file_path = \"/content/drive/MyDrive/Final_Chest_Xray_Dataset_ZIP\"\n",
        "\n",
        "# ✅ Create ZIP file (will create Final_Chest_Xray_Dataset_ZIP.zip)\n",
        "shutil.make_archive(zip_file_path, 'zip', folder_to_zip)\n",
        "\n",
        "print(\"✅ Zipping complete!\")\n",
        "print(f\"📦 ZIP file saved at: {zip_file_path}.zip\")\n"
      ],
      "metadata": {
        "colab": {
          "base_uri": "https://localhost:8080/"
        },
        "id": "QeduGQGu-JIM",
        "outputId": "32971447-3376-41f6-fc1b-e149480fb679"
      },
      "execution_count": null,
      "outputs": [
        {
          "output_type": "stream",
          "name": "stdout",
          "text": [
            "✅ Zipping complete!\n",
            "📦 ZIP file saved at: /content/drive/MyDrive/Final_Chest_Xray_Dataset_ZIP.zip\n"
          ]
        }
      ]
    }
  ]
}